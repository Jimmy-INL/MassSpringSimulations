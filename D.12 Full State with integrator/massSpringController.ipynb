{
 "cells": [
  {
   "cell_type": "code",
   "execution_count": 2,
   "metadata": {},
   "outputs": [],
   "source": [
    "import numpy as np\n",
    "import import_ipynb\n",
    "import massSpringParam1 as P\n",
    "\n",
    "class massSpringController:\n",
    "    def __init__(self):\n",
    "        self.integrator = 0.0 # Integrator\n",
    "        self.error_d1 = 0.0 # Error signal delayed by 1 sample\n",
    "        self.K = P.K # State feedback gain\n",
    "        self.ki = P.ki # Input gain\n",
    "        self.limit = P.tau_max # Maximum force\n",
    "        self.Ts = P.Ts # sample rate of controller\n",
    "        \n",
    "    def update(self, z_r, x):\n",
    "        z = x.item(0)\n",
    "        \n",
    "        #integrate error\n",
    "        error = z_r - z\n",
    "        self.integrateError(error)\n",
    "        \n",
    "        #compute feedback linearizing force tau_fl\n",
    "        tau_fl = P.k * z\n",
    "        \n",
    "        # Compute the state feedback controller\n",
    "        tau_tilde = -self.K @ x - self.ki*self.integrator\n",
    "        \n",
    "        # Compute total force\n",
    "        tau = self.saturate(tau_fl + tau_tilde)\n",
    "        return tau\n",
    "    \n",
    "    def integrateError(self, error):\n",
    "        self.integrator = self.integrator + (self.Ts/2.0)*(error + self.error_d1)\n",
    "        self.error_d1 = error\n",
    "        \n",
    "    def saturate(self, u):\n",
    "        if abs(u) > self.limit:\n",
    "            u = self.limit*np.sign(u)\n",
    "        return u"
   ]
  },
  {
   "cell_type": "code",
   "execution_count": null,
   "metadata": {},
   "outputs": [],
   "source": []
  }
 ],
 "metadata": {
  "kernelspec": {
   "display_name": "Python 3",
   "language": "python",
   "name": "python3"
  },
  "language_info": {
   "codemirror_mode": {
    "name": "ipython",
    "version": 3
   },
   "file_extension": ".py",
   "mimetype": "text/x-python",
   "name": "python",
   "nbconvert_exporter": "python",
   "pygments_lexer": "ipython3",
   "version": "3.7.4"
  }
 },
 "nbformat": 4,
 "nbformat_minor": 2
}
