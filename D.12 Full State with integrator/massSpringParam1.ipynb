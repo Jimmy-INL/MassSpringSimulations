{
 "cells": [
  {
   "cell_type": "code",
   "execution_count": 1,
   "metadata": {},
   "outputs": [
    {
     "name": "stdout",
     "output_type": "stream",
     "text": [
      "importing Jupyter notebook from massSpringParam.ipynb\n",
      "K:  [[179.3889942   42.38909847]]\n",
      "ki:  -81.15684748268254\n"
     ]
    }
   ],
   "source": [
    "#Mass Spring Damper System Parameter File\n",
    "import numpy as np\n",
    "import control as cnt\n",
    "import sys\n",
    "sys.path.append('..') #add parent directory\n",
    "import import_ipynb\n",
    "import massSpringParam as P\n",
    "\n",
    "Ts = P.Ts #sample rate of the controller\n",
    "beta = P.beta #dirty derivative gain\n",
    "tau_max = P.tau_max #limit on control signal\n",
    "m = P.m\n",
    "k = P.k\n",
    "b = P.b\n",
    "\n",
    "#tuning parameters\n",
    "tr = 0.3910\n",
    "zeta = 0.7\n",
    "integrator_pole = np.array([-0.5])\n",
    "\n",
    "#state space equations\n",
    "#xdot = A*x + B*u\n",
    "#y = C*x\n",
    "A = np.array([[0.0, 1.0],\n",
    "              [-P.k/P.m, -P.b/P.m]])\n",
    "B = np.array([[0.0],\n",
    "              [1/P.m]])\n",
    "C = np.array([[1.0, 0.0]])\n",
    "\n",
    "#form augumented system\n",
    "A1 = np.array([[0.0, 1.0, 0.0],\n",
    "               [-P.k/P.m, -P.b/P.m, 0.0],\n",
    "               [-1.0, 0.0, 0.0]])\n",
    "B1 = np.array([[0.0],\n",
    "              [1/P.m],\n",
    "              [0.0]])\n",
    "\n",
    "#gain calculation\n",
    "wn = 2.2/tr #natural frequency\n",
    "des_char_poly = np.convolve(\n",
    "    [1, 2*zeta*wn, wn**2],\n",
    "    np.poly(integrator_pole))\n",
    "des_poles = np.roots(des_char_poly)\n",
    "\n",
    "#Compute the gains if the system is controllable\n",
    "if np.linalg.matrix_rank(cnt.ctrb(A1, B1)) != 3:\n",
    "    print(\"The system is not controllable\")\n",
    "else:\n",
    "    K1 = cnt.acker(A1, B1, des_poles)\n",
    "    K = np.array([[K1.item(0), K1.item(1)]])\n",
    "    ki = K1.item(2)\n",
    "    \n",
    "print('K: ', K)\n",
    "print('ki: ', ki)"
   ]
  },
  {
   "cell_type": "code",
   "execution_count": null,
   "metadata": {},
   "outputs": [],
   "source": []
  },
  {
   "cell_type": "code",
   "execution_count": null,
   "metadata": {},
   "outputs": [],
   "source": []
  }
 ],
 "metadata": {
  "kernelspec": {
   "display_name": "Python 3",
   "language": "python",
   "name": "python3"
  },
  "language_info": {
   "codemirror_mode": {
    "name": "ipython",
    "version": 3
   },
   "file_extension": ".py",
   "mimetype": "text/x-python",
   "name": "python",
   "nbconvert_exporter": "python",
   "pygments_lexer": "ipython3",
   "version": "3.7.4"
  }
 },
 "nbformat": 4,
 "nbformat_minor": 2
}
