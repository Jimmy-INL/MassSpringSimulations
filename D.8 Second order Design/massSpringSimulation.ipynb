{
 "cells": [
  {
   "cell_type": "code",
   "execution_count": 1,
   "metadata": {},
   "outputs": [
    {
     "name": "stdout",
     "output_type": "stream",
     "text": [
      "importing Jupyter notebook from massSpringParam.ipynb\n",
      "importing Jupyter notebook from signalGenerator.ipynb\n",
      "importing Jupyter notebook from massSpringAnimation.ipynb\n",
      "importing Jupyter notebook from dataPlotter.ipynb\n",
      "importing Jupyter notebook from massSpringDynamics.ipynb\n",
      "importing Jupyter notebook from massSpringController.ipynb\n",
      "importing Jupyter notebook from massSpringParam1.ipynb\n",
      "kp:  7.910746666666669\n",
      "kd:  9.966439999999999\n",
      "Press key to close\n"
     ]
    }
   ],
   "source": [
    "import matplotlib\n",
    "matplotlib.use('TkAgg')\n",
    "import matplotlib.pyplot as plt\n",
    "import numpy as np\n",
    "import sys\n",
    "sys.path.append('..')  # add parent directory\n",
    "import import_ipynb\n",
    "import massSpringParam as P\n",
    "from signalGenerator import signalGenerator\n",
    "from massSpringAnimation import massSpringAnimation\n",
    "from dataPlotter import dataPlotter\n",
    "from massSpringDynamics import massSpringDynamics\n",
    "from massSpringController import massSpringController\n",
    "\n",
    "# instantiate reference input classes\n",
    "massSpring = massSpringDynamics()\n",
    "controller = massSpringController()\n",
    "reference = signalGenerator(amplitude=4.0, frequency=0.1)\n",
    "zRef = signalGenerator(amplitude=60.0*np.pi/180.0, frequency=0.05)\n",
    "fRef = signalGenerator(amplitude=0.0)\n",
    "\n",
    "# instantiate the simulation plots and animation\n",
    "dataPlot = dataPlotter()\n",
    "animation = massSpringAnimation()\n",
    "\n",
    "t = P.t_start\n",
    "y = massSpring.h()\n",
    "while t < P.t_end:\n",
    "    # Propagate dynamics in between plot samples\n",
    "    t_next_plot = t + P.t_plot\n",
    "    # updates control and dynamics at faster simulation rate\n",
    "    while t < t_next_plot:\n",
    "        # Get referenced inputs from signal generators\n",
    "        r = zRef.square(t)\n",
    "        d = fRef.step(t)\n",
    "        x = massSpring.state\n",
    "        u = controller.update(r, x)\n",
    "        z = massSpring.update(u + d)\n",
    "        t = t + P.Ts\n",
    "    # update animation and data plots\n",
    "    #state = np.array([[z], [0.0]])\n",
    "    animation.update(massSpring.state)\n",
    "    dataPlot.update(t, r, massSpring.state, u)\n",
    "    plt.pause(0.0001)\n",
    "\n",
    "'''\n",
    "t = P.t_start# time starts at t_start\n",
    "while t < P.t_end:  # main simulation loop\n",
    "    # set variables\n",
    "    r = reference.sawtooth(t)\n",
    "    z = zRef.sin(t)\n",
    "    f = fRef.sin(t)\n",
    "    # update animation\n",
    "    state = np.array([[z], [0.0]])\n",
    "    animation.update(state)\n",
    "    dataPlot.update(t, r, state, f)\n",
    "    t = t + P.t_plot  # advance time by t_plot\n",
    "    plt.pause(0.0001)\n",
    "'''\n",
    "# Keeps the program from closing until the user presses a button.\n",
    "print('Press key to close')\n",
    "plt.waitforbuttonpress()\n",
    "plt.close()"
   ]
  },
  {
   "cell_type": "code",
   "execution_count": null,
   "metadata": {},
   "outputs": [],
   "source": []
  }
 ],
 "metadata": {
  "kernelspec": {
   "display_name": "Python 3",
   "language": "python",
   "name": "python3"
  },
  "language_info": {
   "codemirror_mode": {
    "name": "ipython",
    "version": 3
   },
   "file_extension": ".py",
   "mimetype": "text/x-python",
   "name": "python",
   "nbconvert_exporter": "python",
   "pygments_lexer": "ipython3",
   "version": "3.7.4"
  }
 },
 "nbformat": 4,
 "nbformat_minor": 2
}
