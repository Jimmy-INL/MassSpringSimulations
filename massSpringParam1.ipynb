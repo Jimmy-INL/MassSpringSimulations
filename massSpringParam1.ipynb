{
 "cells": [
  {
   "cell_type": "code",
   "execution_count": 1,
   "metadata": {},
   "outputs": [
    {
     "name": "stdout",
     "output_type": "stream",
     "text": [
      "importing Jupyter notebook from massSpringParam.ipynb\n",
      "kp:  4.564\n",
      "kd:  12.25\n"
     ]
    }
   ],
   "source": [
    "import numpy as np\n",
    "#import control as cnt\n",
    "import sys\n",
    "sys.path.append('..') #add parent directory\n",
    "import import_ipynb\n",
    "import massSpringParam as P\n",
    "\n",
    "Ts = P.Ts #sample rate of the controller\n",
    "beta = P.beta #dirty derivative gain\n",
    "tau_max = P.tau_max #limit on control signal\n",
    "\n",
    "#PD gains\n",
    "kp = 4.564\n",
    "kd = 12.25\n",
    "\n",
    "print('kp: ', kp)\n",
    "print('kd: ', kd)"
   ]
  },
  {
   "cell_type": "code",
   "execution_count": null,
   "metadata": {},
   "outputs": [],
   "source": []
  }
 ],
 "metadata": {
  "kernelspec": {
   "display_name": "Python 3",
   "language": "python",
   "name": "python3"
  },
  "language_info": {
   "codemirror_mode": {
    "name": "ipython",
    "version": 3
   },
   "file_extension": ".py",
   "mimetype": "text/x-python",
   "name": "python",
   "nbconvert_exporter": "python",
   "pygments_lexer": "ipython3",
   "version": "3.7.4"
  }
 },
 "nbformat": 4,
 "nbformat_minor": 2
}
