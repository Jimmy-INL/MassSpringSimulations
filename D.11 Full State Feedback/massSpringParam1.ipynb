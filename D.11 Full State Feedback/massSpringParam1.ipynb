{
 "cells": [
  {
   "cell_type": "code",
   "execution_count": 1,
   "metadata": {},
   "outputs": [
    {
     "name": "stdout",
     "output_type": "stream",
     "text": [
      "importing Jupyter notebook from massSpringParam.ipynb\n",
      "K:  [[158.78136534  39.77401916]]\n",
      "kr:  [[161.89936534]]\n"
     ]
    }
   ],
   "source": [
    "#Mass Spring Damper system Parameter File\n",
    "import numpy as np\n",
    "import control as cnt\n",
    "import sys\n",
    "sys.path.append('..') #add parent directory\n",
    "import import_ipynb\n",
    "import massSpringParam as P\n",
    "\n",
    "Ts = P.Ts\n",
    "beta = P.beta\n",
    "tau_max = P.tau_max\n",
    "m = P.m\n",
    "k = P.k\n",
    "b = P.b\n",
    "\n",
    "#tuning paramters\n",
    "#tr = 1.45 #as from the previous homework X.10\n",
    "tr = 0.3915 #tune in value of rise time so that the error between reference and input minimises\n",
    "zeta = 0.7\n",
    "\n",
    "#State Space Equations\n",
    "# xdot = A*x + B*u\n",
    "# y = C*x\n",
    "A = np.array([[0.0, 1.0],\n",
    "              [-P.k/P.m, -P.b/P.m]])\n",
    "B = np.array([[0.0],\n",
    "              [1.0/P.m]])\n",
    "C = np.array([[1.0, 0.0]])\n",
    "\n",
    "#gain calculation\n",
    "wn = 2.2/tr #natural frequency\n",
    "des_char_poly = [1, 2*zeta*wn, wn**2]\n",
    "des_poles = np.roots(des_char_poly)\n",
    "\n",
    "#Compute the gains if the system is controllable\n",
    "if np.linalg.matrix_rank(cnt.ctrb(A, B)) != 2:\n",
    "    print(\"The system is not controllable\")\n",
    "else:\n",
    "    #.A just turns K matrix into a numpy array\n",
    "    K = (cnt.acker(A, B, des_poles)).A\n",
    "    kr = -1.0/(C @ np.linalg.inv(A - B @ K) @ B)\n",
    "    \n",
    "print('K: ', K)\n",
    "print('kr: ', kr)"
   ]
  },
  {
   "cell_type": "code",
   "execution_count": null,
   "metadata": {},
   "outputs": [],
   "source": []
  },
  {
   "cell_type": "code",
   "execution_count": null,
   "metadata": {},
   "outputs": [],
   "source": []
  }
 ],
 "metadata": {
  "kernelspec": {
   "display_name": "Python 3",
   "language": "python",
   "name": "python3"
  },
  "language_info": {
   "codemirror_mode": {
    "name": "ipython",
    "version": 3
   },
   "file_extension": ".py",
   "mimetype": "text/x-python",
   "name": "python",
   "nbconvert_exporter": "python",
   "pygments_lexer": "ipython3",
   "version": "3.7.4"
  }
 },
 "nbformat": 4,
 "nbformat_minor": 2
}
