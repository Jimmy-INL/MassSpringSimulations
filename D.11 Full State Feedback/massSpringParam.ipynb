{
 "cells": [
  {
   "cell_type": "code",
   "execution_count": 5,
   "metadata": {},
   "outputs": [],
   "source": [
    "# Mass Spring Damper System Parameter File\n",
    "import numpy as np\n",
    "# import control as cnt\n",
    "\n",
    "# Physical parameters of the arm known to the controller\n",
    "m = 5.127     # Mass of the cart, kg\n",
    "ell = 10    # Length of the arm, m\n",
    "#g = 9.8       # Gravity, m/s**2\n",
    "b = 0.561      # Damping coefficient, Nms\n",
    "k = 3.118     #Spring constant, N/m\n",
    "gap = 0.0015\n",
    "\n",
    "# parameters for animation\n",
    "length = 3.0    # length of arm in animation\n",
    "width = 3.0   # width of arm in animation\n",
    "gap = 0.005\n",
    "w = 0.3\n",
    "# Initial Conditions\n",
    "theta0 = 0.0       # ,rads\n",
    "thetadot0 = 0.0         # ,rads/s\n",
    "z0 = 0.0   # ,m\n",
    "zdot0 = 0.0 # ,m/s\n",
    "\n",
    "# Simulation Parameters\n",
    "t_start = 0.0  # Start time of simulation\n",
    "t_end = 50.0  # End time of simulation\n",
    "Ts = 0.01  # sample time for simulation\n",
    "t_plot = 0.05  # the plotting and animation is updated at this rate\n",
    "\n",
    "# dirty derivative parameters\n",
    "sigma = 0.05  # cutoff freq for dirty derivative\n",
    "beta = (2.0*sigma-Ts)/(2.0*sigma+Ts)  # dirty derivative gain\n",
    "\n",
    "# saturation limits\n",
    "tau_max = 6.0                # Max force, N-m"
   ]
  }
 ],
 "metadata": {
  "kernelspec": {
   "display_name": "Python 3",
   "language": "python",
   "name": "python3"
  },
  "language_info": {
   "codemirror_mode": {
    "name": "ipython",
    "version": 3
   },
   "file_extension": ".py",
   "mimetype": "text/x-python",
   "name": "python",
   "nbconvert_exporter": "python",
   "pygments_lexer": "ipython3",
   "version": "3.7.4"
  }
 },
 "nbformat": 4,
 "nbformat_minor": 2
}
