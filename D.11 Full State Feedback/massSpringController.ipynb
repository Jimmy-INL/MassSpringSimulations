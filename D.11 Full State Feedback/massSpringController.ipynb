{
 "cells": [
  {
   "cell_type": "code",
   "execution_count": 1,
   "metadata": {},
   "outputs": [
    {
     "name": "stdout",
     "output_type": "stream",
     "text": [
      "importing Jupyter notebook from massSpringParam1.ipynb\n",
      "importing Jupyter notebook from massSpringParam.ipynb\n",
      "K:  [[7.91074667 9.96644   ]]\n",
      "kr:  [[11.02874667]]\n"
     ]
    }
   ],
   "source": [
    "import numpy as np\n",
    "import import_ipynb\n",
    "import massSpringParam1 as P\n",
    "\n",
    "class massSpringController:\n",
    "    #dirty derivatives to estimate zdot\n",
    "    def __init__(self):\n",
    "        self.K = P.K #State feedback gain\n",
    "        self.kr = P.kr #Input gain\n",
    "        self.limit = P.tau_max #Maximum force\n",
    "        self.Ts = P.Ts #sample rate of controller\n",
    "        \n",
    "    def update(self, z_r, x):\n",
    "        z = x.item(0)\n",
    "        zdot = x.item(1)\n",
    "        \n",
    "        #Compute feedback linearizing force tau_fl\n",
    "        tau_fl = P.k*z\n",
    "        \n",
    "        #Compute the state feedback controller\n",
    "        tau_tilde = -self.K @ x + self.kr * z_r\n",
    "        \n",
    "        #Compute total force\n",
    "        tau = self.saturate(tau_fl + tau_tilde)\n",
    "        return tau\n",
    "    \n",
    "    def saturate(self, u):\n",
    "        if abs(u) > self.limit:\n",
    "            u = self.limit*np.sign(u)\n",
    "            \n",
    "        return u"
   ]
  },
  {
   "cell_type": "code",
   "execution_count": null,
   "metadata": {},
   "outputs": [],
   "source": []
  }
 ],
 "metadata": {
  "kernelspec": {
   "display_name": "Python 3",
   "language": "python",
   "name": "python3"
  },
  "language_info": {
   "codemirror_mode": {
    "name": "ipython",
    "version": 3
   },
   "file_extension": ".py",
   "mimetype": "text/x-python",
   "name": "python",
   "nbconvert_exporter": "python",
   "pygments_lexer": "ipython3",
   "version": "3.7.4"
  }
 },
 "nbformat": 4,
 "nbformat_minor": 2
}
