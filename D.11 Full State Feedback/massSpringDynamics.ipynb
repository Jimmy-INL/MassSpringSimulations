{
 "cells": [
  {
   "cell_type": "code",
   "execution_count": 1,
   "metadata": {},
   "outputs": [
    {
     "name": "stdout",
     "output_type": "stream",
     "text": [
      "importing Jupyter notebook from massSpringParam.ipynb\n"
     ]
    }
   ],
   "source": [
    "import numpy as np \n",
    "import random\n",
    "import import_ipynb\n",
    "import massSpringParam as P\n",
    "\n",
    "\n",
    "class massSpringDynamics:\n",
    "    def __init__(self, alpha=0.2):\n",
    "        # Initial state conditions\n",
    "        self.state = np.array([\n",
    "            [P.z0],      # initial position\n",
    "            [P.zdot0]\n",
    "        ])  # initial positional rate\n",
    "\n",
    "        alpha = 0.2\n",
    "        # Mass of the arm, kg\n",
    "        self.m = P.m * (1.+alpha*(2.*np.random.rand()-1.))\n",
    "\n",
    "        # Damping coefficient, Ns\n",
    "        self.b = P.b * (1.+alpha*(2.*np.random.rand()-1.))  \n",
    "\n",
    "        #Spring constant,\n",
    "        self.k = P.k * (1.+alpha*(2.*np.random.rand()-1.))\n",
    "        \n",
    "        # sample rate at which the dynamics are propagated\n",
    "        self.Ts = P.Ts  \n",
    "        self.force_limit = P.tau_max\n",
    "\n",
    "    def update(self, u):\n",
    "        # This is the external method that takes the input u at time\n",
    "        # t and returns the output y at time t.\n",
    "        # saturate the input force\n",
    "        u = self.saturate(u, self.force_limit)\n",
    "        \n",
    "        self.rk4_step(u)  # propagate the state by one time sample\n",
    "        y = self.h()  # return the corresponding output\n",
    "\n",
    "        return y\n",
    "\n",
    "    def f(self, state, u):\n",
    "        # Return xdot = f(x,u), the system state update equations\n",
    "        # re-label states for readability\n",
    "        z = state.item(0)\n",
    "        zdot = state.item(1)\n",
    "        zddot = -(self.b/self.m) * zdot - (self.k/self.m) * z + (1/self.m) * u;\n",
    "        xdot = np.array([[zdot],\n",
    "                         [zddot]])\n",
    "        \n",
    "        return xdot\n",
    "\n",
    "    def h(self):\n",
    "        # return the output equations\n",
    "        # could also use input u if needed\n",
    "        z = self.state.item(0)\n",
    "        y = np.array([[z]])\n",
    "\n",
    "        return y\n",
    "\n",
    "    def rk4_step(self, u):\n",
    "        # Integrate ODE using Runge-Kutta RK4 algorithm\n",
    "        F1 = self.f(self.state, u)\n",
    "        F2 = self.f(self.state + self.Ts / 2 * F1, u)\n",
    "        F3 = self.f(self.state + self.Ts / 2 * F2, u)\n",
    "        F4 = self.f(self.state + self.Ts * F3, u)\n",
    "        self.state += self.Ts / 6 * (F1 + 2 * F2 + 2 * F3 + F4)\n",
    "\n",
    "    def saturate(self, u, limit):\n",
    "        if abs(u) > limit:\n",
    "            u = limit*np.sign(u)\n",
    "\n",
    "        return u\n"
   ]
  },
  {
   "cell_type": "code",
   "execution_count": null,
   "metadata": {},
   "outputs": [],
   "source": []
  }
 ],
 "metadata": {
  "kernelspec": {
   "display_name": "Python 3",
   "language": "python",
   "name": "python3"
  },
  "language_info": {
   "codemirror_mode": {
    "name": "ipython",
    "version": 3
   },
   "file_extension": ".py",
   "mimetype": "text/x-python",
   "name": "python",
   "nbconvert_exporter": "python",
   "pygments_lexer": "ipython3",
   "version": "3.7.4"
  }
 },
 "nbformat": 4,
 "nbformat_minor": 2
}
