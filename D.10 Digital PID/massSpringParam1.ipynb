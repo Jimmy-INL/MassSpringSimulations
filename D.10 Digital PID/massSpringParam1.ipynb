{
 "cells": [
  {
   "cell_type": "code",
   "execution_count": 1,
   "metadata": {},
   "outputs": [
    {
     "name": "stdout",
     "output_type": "stream",
     "text": [
      "importing Jupyter notebook from massSpringParam.ipynb\n",
      "kp:  8.684463733650418\n",
      "kd:  10.329455172413795\n",
      "ki:  0.1\n"
     ]
    }
   ],
   "source": [
    "# Mass Spring Damper System Parameter File\n",
    "import numpy as np\n",
    "# import control as cnt\n",
    "import sys\n",
    "sys.path.append('..')  # add parent directory\n",
    "import import_ipynb\n",
    "import massSpringParam as P\n",
    "\n",
    "Ts = P.Ts  # sample rate of the controller\n",
    "beta = P.beta  # dirty derivative gain\n",
    "tau_max = P.tau_max  # limit on control signal\n",
    "\n",
    "#  tuning parameters\n",
    "#tr = 2 # part (a)\n",
    "tr = 1.45 #tuned to get fastest possible rise time before saturation.\n",
    "zeta = 0.7\n",
    "ki = 0.1 #integrator gain\n",
    "\n",
    "# desired natural frequency\n",
    "wn = 2.2/tr\n",
    "alpha1 = 2.0*zeta*wn\n",
    "alpha0 = wn**2\n",
    "\n",
    "# compute PD gains\n",
    "kp = P.m*(alpha0 - (P.k/P.m))\n",
    "kd = P.m*(alpha1 - (P.b/P.m))\n",
    "\n",
    "print('kp: ', kp)\n",
    "print('kd: ', kd)\n",
    "print('ki: ', ki)"
   ]
  },
  {
   "cell_type": "code",
   "execution_count": null,
   "metadata": {},
   "outputs": [],
   "source": []
  },
  {
   "cell_type": "code",
   "execution_count": null,
   "metadata": {},
   "outputs": [],
   "source": []
  }
 ],
 "metadata": {
  "kernelspec": {
   "display_name": "Python 3",
   "language": "python",
   "name": "python3"
  },
  "language_info": {
   "codemirror_mode": {
    "name": "ipython",
    "version": 3
   },
   "file_extension": ".py",
   "mimetype": "text/x-python",
   "name": "python",
   "nbconvert_exporter": "python",
   "pygments_lexer": "ipython3",
   "version": "3.7.4"
  }
 },
 "nbformat": 4,
 "nbformat_minor": 2
}
