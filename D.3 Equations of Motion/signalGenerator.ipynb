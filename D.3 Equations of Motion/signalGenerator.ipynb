{
 "cells": [
  {
   "cell_type": "code",
   "execution_count": 2,
   "metadata": {},
   "outputs": [],
   "source": [
    "import numpy as np\n",
    "\n",
    "class signalGenerator:\n",
    "    def __init__(self, amplitude=1.0, frequency=0.001, y_offset=0):\n",
    "        self.amplitude = amplitude  # signal amplitude\n",
    "        self.frequency = frequency  # signal frequency\n",
    "        self.y_offset = y_offset  # signal y-offset\n",
    "\n",
    "    def square(self, t):\n",
    "        if t % (1.0/self.frequency) <= 0.5/self.frequency:\n",
    "            out = self.amplitude + self.y_offset\n",
    "        else:\n",
    "            out = - self.amplitude + self.y_offset\n",
    "        return out\n",
    "\n",
    "    def sawtooth(self, t):\n",
    "        tmp = t % (0.5/self.frequency)\n",
    "        out = 4 * self.amplitude * self.frequency*tmp \\\n",
    "              - self.amplitude + self.y_offset\n",
    "        return out\n",
    "\n",
    "    def step(self, t):\n",
    "        if t >= 0.0:\n",
    "            out = self.amplitude + self.y_offset\n",
    "        else:\n",
    "            out = self.y_offset\n",
    "        return out\n",
    "\n",
    "    def random(self, t):\n",
    "        out = np.random.normal(self.y_offset, self.amplitude)\n",
    "        return out\n",
    "\n",
    "    def sin(self, t):\n",
    "        out = self.amplitude * np.sin(2*np.pi*self.frequency*t) \\\n",
    "              + self.y_offset\n",
    "        return out"
   ]
  },
  {
   "cell_type": "code",
   "execution_count": null,
   "metadata": {},
   "outputs": [],
   "source": []
  }
 ],
 "metadata": {
  "kernelspec": {
   "display_name": "Python 3",
   "language": "python",
   "name": "python3"
  },
  "language_info": {
   "codemirror_mode": {
    "name": "ipython",
    "version": 3
   },
   "file_extension": ".py",
   "mimetype": "text/x-python",
   "name": "python",
   "nbconvert_exporter": "python",
   "pygments_lexer": "ipython3",
   "version": "3.7.4"
  }
 },
 "nbformat": 4,
 "nbformat_minor": 2
}
