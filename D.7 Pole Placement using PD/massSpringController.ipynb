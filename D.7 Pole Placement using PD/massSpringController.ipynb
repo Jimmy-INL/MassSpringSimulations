{
 "cells": [
  {
   "cell_type": "code",
   "execution_count": 1,
   "metadata": {},
   "outputs": [
    {
     "name": "stdout",
     "output_type": "stream",
     "text": [
      "importing Jupyter notebook from massSpringParam1.ipynb\n",
      "importing Jupyter notebook from massSpringParam.ipynb\n",
      "kp:  4.564\n",
      "kd:  12.25\n"
     ]
    }
   ],
   "source": [
    "import numpy as np\n",
    "import import_ipynb\n",
    "import massSpringParam1 as P\n",
    "import sys\n",
    "sys.path.append('..')  # add parent directory\n",
    "import massSpringParam as P0\n",
    "\n",
    "class massSpringController:\n",
    "    def __init__(self):\n",
    "\n",
    "        # Instantiates the PD object\n",
    "        self.kp = P.kp\n",
    "        self.kd = P.kd\n",
    "        self.limit = P0.tau_max\n",
    "\n",
    "    def update(self, z_r, x):\n",
    "        z = x.item(0)\n",
    "        zdot = x.item(1)\n",
    "\n",
    "        # feedback linearized force\n",
    "        tau_fl = P0.k*z\n",
    "\n",
    "        # equilibrium torque around theta_e = 0\n",
    "        z_e = 0.0\n",
    "        tau_e = P0.k*z_e\n",
    "\n",
    "        # compute the linearized torque using PD control\n",
    "        tau_tilde = self.kp * (z_r - z) - self.kd * zdot\n",
    "\n",
    "        # compute total torque\n",
    "        tau = tau_fl + tau_tilde\n",
    "\n",
    "        #tau = tau_e + tau_tilde\n",
    "        # always saturate to protect hardware\n",
    "        tau = self.saturate(tau)\n",
    "\n",
    "        return tau\n",
    "\n",
    "    def saturate(self, u):\n",
    "        if abs(u) > self.limit:\n",
    "            u = self.limit*np.sign(u)\n",
    "        return u\n",
    "\n"
   ]
  },
  {
   "cell_type": "code",
   "execution_count": null,
   "metadata": {},
   "outputs": [],
   "source": []
  }
 ],
 "metadata": {
  "kernelspec": {
   "display_name": "Python 3",
   "language": "python",
   "name": "python3"
  },
  "language_info": {
   "codemirror_mode": {
    "name": "ipython",
    "version": 3
   },
   "file_extension": ".py",
   "mimetype": "text/x-python",
   "name": "python",
   "nbconvert_exporter": "python",
   "pygments_lexer": "ipython3",
   "version": "3.7.4"
  }
 },
 "nbformat": 4,
 "nbformat_minor": 2
}
