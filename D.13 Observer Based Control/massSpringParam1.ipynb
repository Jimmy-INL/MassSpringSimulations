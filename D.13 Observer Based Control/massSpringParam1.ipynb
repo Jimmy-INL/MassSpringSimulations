{
 "cells": [
  {
   "cell_type": "code",
   "execution_count": 1,
   "metadata": {},
   "outputs": [
    {
     "name": "stdout",
     "output_type": "stream",
     "text": [
      "importing Jupyter notebook from massSpringParam.ipynb\n",
      "K:  [156.17475102  77.3694    ]\n",
      "ki:  -164.5871632653067\n",
      "L^T:  [[28.09057929 53.51815585]]\n"
     ]
    }
   ],
   "source": [
    "#Mass Spring Damper Parameter File\n",
    "import numpy as np\n",
    "import control as cnt\n",
    "import sys\n",
    "sys.path.append('..') # add parent directory\n",
    "import import_ipynb\n",
    "import massSpringParam as P\n",
    "\n",
    "#tuning parameters\n",
    "tr = 1.4\n",
    "zeta = 0.707\n",
    "integrator_pole = 13\n",
    "wn_obs = 10 # natural frequency for observer\n",
    "zeta_obs = 0.7 #damping ratio for observer\n",
    "\n",
    "Ts = P.Ts #sample rate of the controller\n",
    "tau_max = P.tau_max #limit on control signal\n",
    "m = P.m\n",
    "k = P.k\n",
    "b = P.b\n",
    "\n",
    "#State Space Equations\n",
    "A = np.array([[0.0, 1.0],\n",
    "              [-P.k/P.m, -P.b/P.m]])\n",
    "n = A.shape[0]\n",
    "\n",
    "B = np.array([[0.0],\n",
    "              [1/P.m]])\n",
    "C = np.array([[1.0, 0.0]])\n",
    "\n",
    "#control design\n",
    "#form augumented system\n",
    "A1 = np.array([[0.0, 1.0, 0.0],\n",
    "               [-P.k/P.m, -P.b/P.m, 0.0],\n",
    "               [-1.0, 0.0, 0.0]])\n",
    "B1 = np.array([[0.0],\n",
    "              [1/P.m],\n",
    "              [0.0]])\n",
    "\n",
    "#gain calculation\n",
    "wn = 2.2/tr #natural frequency\n",
    "\n",
    "#des_char_poly = np.convolve(             \n",
    "#    [1, 2*zeta*wn, wn**2],         \n",
    "#    np.poly(integrator_pole))            \n",
    "\n",
    "des_char_poly = np.convolve(\n",
    "    [1, 2*zeta*wn, wn**2],\n",
    "    [1, integrator_pole])\n",
    "des_poles = np.roots(des_char_poly)\n",
    "\n",
    "#Compute the gains if the system is controllable\n",
    "if np.linalg.matrix_rank(cnt.ctrb(A1, B1)) != 3:\n",
    "    print(\"The system is not controllable\")\n",
    "else:\n",
    "    K1 = cnt.acker(A1, B1, des_poles)\n",
    "    K = np.array([K1.item(0), K1.item(1)])\n",
    "    ki = K1.item(2)\n",
    "    \n",
    "#observer design\n",
    "#des_obsv_char_poly = [1, 2*zeta_obs*wn_obs, wn_obs**2]\n",
    "des_obsv_poles = des_poles[0:n]*2 #np.roots(des_obsv_char_poly)\n",
    "\n",
    "#Compute the gains if the system is controllable\n",
    "if np.linalg.matrix_rank(cnt.ctrb(A.T, C.T)) != 2:\n",
    "    print(\"System not Observable\")\n",
    "else:\n",
    "    L = cnt.acker(A.T, C.T, des_obsv_poles).T\n",
    "    \n",
    "print('K: ', K)\n",
    "print('ki: ', ki)\n",
    "print('L^T: ', L.T)"
   ]
  },
  {
   "cell_type": "code",
   "execution_count": null,
   "metadata": {},
   "outputs": [],
   "source": []
  }
 ],
 "metadata": {
  "kernelspec": {
   "display_name": "Python 3",
   "language": "python",
   "name": "python3"
  },
  "language_info": {
   "codemirror_mode": {
    "name": "ipython",
    "version": 3
   },
   "file_extension": ".py",
   "mimetype": "text/x-python",
   "name": "python",
   "nbconvert_exporter": "python",
   "pygments_lexer": "ipython3",
   "version": "3.7.4"
  }
 },
 "nbformat": 4,
 "nbformat_minor": 2
}
