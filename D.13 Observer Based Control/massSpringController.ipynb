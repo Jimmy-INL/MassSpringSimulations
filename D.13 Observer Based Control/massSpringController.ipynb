{
 "cells": [
  {
   "cell_type": "code",
   "execution_count": 1,
   "metadata": {},
   "outputs": [
    {
     "name": "stdout",
     "output_type": "stream",
     "text": [
      "importing Jupyter notebook from massSpringParam1.ipynb\n",
      "importing Jupyter notebook from massSpringParam.ipynb\n",
      "K:  [26.46165102 18.4089    ]\n",
      "ki:  -18.9908265306122\n",
      "L^T:  [[4.29057929 8.79991986]]\n"
     ]
    }
   ],
   "source": [
    "import numpy as np\n",
    "import import_ipynb\n",
    "import massSpringParam1 as P\n",
    "\n",
    "class massSpringController:\n",
    "    def __init__(self):\n",
    "        self.x_hat = np.array([\n",
    "            [0.0], # z_hat_0\n",
    "            [0.0], # zdot_hat_0\n",
    "        ])\n",
    "        self.tau_d1 = 0.0 #control force, delayed 1 sample\n",
    "        self.integrator = 0.0 # integrator\n",
    "        self.error_d1 = 0.0 # error signal, delyaed 1 sample\n",
    "        self.K = P.K # state feedback gain\n",
    "        self.ki = P.ki # Input gain\n",
    "        self.L = P.L # observer gain\n",
    "        self.A = P.A # system model\n",
    "        self.B = P.B\n",
    "        self.C = P.C\n",
    "        self.limit = P.tau_max # maximum force\n",
    "        self.Ts = P.Ts # sample rate of controller\n",
    "        \n",
    "    def update(self, z_r, y):\n",
    "        #update the observer and extreact z_hat\n",
    "        x_hat = self.update_observer(y)\n",
    "        z_hat = x_hat.item(0)\n",
    "        \n",
    "        #integrate error\n",
    "        error = z_r - z_hat\n",
    "        self.integrateError(error)\n",
    "        \n",
    "        #feedback linearizing force tau_fl\n",
    "        tau_fl = P.k*z_hat\n",
    "        \n",
    "        # Compute the state feedback controller\n",
    "        tau_tilde = -self.K @ x_hat - self.ki * self.integrator\n",
    "        \n",
    "        #compute total force\n",
    "        tau = self.saturate(tau_fl + tau_tilde.item(0))\n",
    "        self.tau_d1 = tau\n",
    "        return tau, x_hat\n",
    "    \n",
    "    def integrateError(self, error):\n",
    "        self.integrator = self.integrator \\\n",
    "                          + (self.Ts/2.0)*(error + self.error_d1)\n",
    "        self.error_d1 = error\n",
    "        \n",
    "    def update_observer(self, y_m):\n",
    "        #update the observer using RK4 integration\n",
    "        F1 = self.observer_f(self.x_hat, y_m)\n",
    "        F2 = self.observer_f(self.x_hat + self.Ts / 2 * F1, y_m)\n",
    "        F3 = self.observer_f(self.x_hat + self.Ts / 2 * F2, y_m)\n",
    "        F4 = self.observer_f(self.x_hat + self.Ts * F3, y_m)\n",
    "        self.x_hat += self.Ts / 6 * (F1 + 2 * F2 + 2 * F3 + F4)\n",
    "\n",
    "        return self.x_hat\n",
    "    \n",
    "    def observer_f(self, x_hat, y_m):\n",
    "        #compute feedback linearizing force tau_fl\n",
    "        z_hat = x_hat.item(0)\n",
    "        tau_fl = P.k*z_hat\n",
    "        \n",
    "        # xhatdot = A*xhat + B*(u-ue) + L(y-C*xhat)\n",
    "        xhat_dot = self.A @ x_hat\\\n",
    "                   + self.B * (self.tau_d1 - tau_fl)\\\n",
    "                   + self.L * (y_m - self.C @ x_hat)\n",
    "\n",
    "        return xhat_dot\n",
    "    \n",
    "    def saturate(self, u):\n",
    "        if abs(u) > self.limit:\n",
    "            u = self.limit*np.sign(u)\n",
    "        return u"
   ]
  },
  {
   "cell_type": "code",
   "execution_count": null,
   "metadata": {},
   "outputs": [],
   "source": []
  }
 ],
 "metadata": {
  "kernelspec": {
   "display_name": "Python 3",
   "language": "python",
   "name": "python3"
  },
  "language_info": {
   "codemirror_mode": {
    "name": "ipython",
    "version": 3
   },
   "file_extension": ".py",
   "mimetype": "text/x-python",
   "name": "python",
   "nbconvert_exporter": "python",
   "pygments_lexer": "ipython3",
   "version": "3.7.4"
  }
 },
 "nbformat": 4,
 "nbformat_minor": 2
}
